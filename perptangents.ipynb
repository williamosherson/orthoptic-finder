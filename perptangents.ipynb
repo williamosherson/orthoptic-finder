{
 "cells": [
  {
   "cell_type": "code",
   "execution_count": 7,
   "metadata": {},
   "outputs": [],
   "source": [
    "import sympy as sp\n",
    "import matplotlib.pyplot as plt \n",
    "import numpy as np \n",
    "from matplotlib.animation import FuncAnimation"
   ]
  },
  {
   "cell_type": "code",
   "execution_count": 22,
   "metadata": {},
   "outputs": [],
   "source": [
    "x,y = sp.symbols('x,y')\n",
    "a = sp.symbols('a')\n",
    "f = sp.cosh(x)\n",
    "fprime = sp.diff(f,x)\n",
    "inverses = []\n",
    "solutions = sp.solve(fprime-y,x)\n",
    "for i in range(len(solutions)):\n",
    "    if sp.im(solutions[i].subs(y,0.2352345)) == 0:\n",
    "       inverses.append(solutions[i].subs(y,x)) "
   ]
  },
  {
   "cell_type": "code",
   "execution_count": 23,
   "metadata": {},
   "outputs": [],
   "source": [
    "g = fprime.subs(x,a) * (x-a) + f.subs(x,a)\n",
    "perpendicular_tangents = []\n",
    "for inverse in inverses:\n",
    "    slope = -fprime.subs(x,a)**-1\n",
    "    b = inverse.subs(x,slope)\n",
    "    h = slope * (x - b) + f.subs(x,b)\n",
    "    perpendicular_tangents.append(h)"
   ]
  },
  {
   "cell_type": "code",
   "execution_count": 24,
   "metadata": {},
   "outputs": [
    {
     "data": {
      "text/plain": [
       "[-(x - log(sqrt(1 + sinh(a)**(-2)) - 1/sinh(a)))/sinh(a) + cosh(log(sqrt(1 + sinh(a)**(-2)) - 1/sinh(a)))]"
      ]
     },
     "execution_count": 24,
     "metadata": {},
     "output_type": "execute_result"
    }
   ],
   "source": [
    "perpendicular_tangents"
   ]
  },
  {
   "cell_type": "code",
   "execution_count": null,
   "metadata": {},
   "outputs": [
    {
     "name": "stderr",
     "output_type": "stream",
     "text": [
      "C:\\Users\\Iguds\\AppData\\Local\\Temp\\ipykernel_16656\\2784912262.py:82: UserWarning: FigureCanvasAgg is non-interactive, and thus cannot be shown\n",
      "  plt.show()\n"
     ]
    }
   ],
   "source": [
    "# Convert sympy expressions to numerical functions using lambdify.\n",
    "g_func = sp.lambdify((x, a), g, 'numpy')\n",
    "f_func = sp.lambdify(x, f, 'numpy')\n",
    "h_func = sp.lambdify((x, a), h, 'numpy')\n",
    "\n",
    "# Create an array of x-values for plotting.\n",
    "x_vals = np.linspace(-10, 10, 400)\n",
    "\n",
    "# Set up the figure and axes.\n",
    "fig, ax = plt.subplots()\n",
    "ax.set_xlim(x_vals.min(), x_vals.max())\n",
    "ax.set_ylim(-10, 10) \n",
    "ax.set_xlabel('x')\n",
    "ax.set_ylabel('y')\n",
    "\n",
    "# Create line objects for the functions.\n",
    "line_g, = ax.plot([], [], label='g(x,a)')\n",
    "line_f, = ax.plot([], [], label='f(x)')\n",
    "line_h, = ax.plot([], [], label='h(x,a)')\n",
    "\n",
    "# Create a marker for the current intersection and a line for the trace.\n",
    "point_intersection, = ax.plot([], [], 'ko', markersize=8, label='Intersection Point')\n",
    "trace_line, = ax.plot([], [], 'r-', linewidth=2, label='Intersection Trace')\n",
    "\n",
    "# Update the legend to include the new items.\n",
    "ax.legend()\n",
    "num_frames = 20\n",
    "# Lists to store the intersection trace.\n",
    "intersection_trace_x = []\n",
    "intersection_trace_y = []\n",
    "\n",
    "def update(frame):\n",
    "\n",
    "    a_val = frame - (num_frames/2) +0.002\n",
    "\n",
    "    y_g = g_func(x_vals, a_val)\n",
    "    y_f = f_func(x_vals)\n",
    "    y_h = h_func(x_vals, a_val)\n",
    "    \n",
    "    line_g.set_data(x_vals, y_g)\n",
    "    line_f.set_data(x_vals, y_f)\n",
    "    line_h.set_data(x_vals, y_h)\n",
    "    \n",
    "    try:\n",
    "        eq = (g - h).subs(a, a_val)\n",
    "        sol = sp.nsolve(eq, x, 0)\n",
    "        x_inter = float(sol)\n",
    "        y_inter = float(g_func(x_inter, a_val))\n",
    "        \n",
    "        intersection_trace_x.append(x_inter)\n",
    "        intersection_trace_y.append(y_inter)\n",
    "        \n",
    "        point_intersection.set_data([x_inter], [y_inter])\n",
    "        trace_line.set_data(intersection_trace_x, intersection_trace_y)\n",
    "    except Exception as e:\n",
    "        # If no solution is found for the current frame, skip updating the intersection.\n",
    "        pass\n",
    "    \n",
    "    ax.set_title(f\"Parameter a = {a_val:.2f}\")\n",
    "    return line_g, line_f, line_h, point_intersection, trace_line\n",
    "\n",
    "# Use the Tk backend (or change as desired).\n",
    "%matplotlib tk\n",
    "\n",
    "# Create the animation.\n",
    "ani = FuncAnimation(fig, update, frames=num_frames, blit=True,\n",
    "                    repeat=True, interval=100)\n",
    "\n",
    "plt.show()\n",
    "\n",
    "# Optionally, save the animation (requires ffmpeg or imagemagick)\n",
    "# ani.save('animated_plot.mp4', writer='ffmpeg')\n"
   ]
  },
  {
   "cell_type": "code",
   "execution_count": null,
   "metadata": {},
   "outputs": [],
   "source": []
  }
 ],
 "metadata": {
  "kernelspec": {
   "display_name": "Python 3",
   "language": "python",
   "name": "python3"
  },
  "language_info": {
   "codemirror_mode": {
    "name": "ipython",
    "version": 3
   },
   "file_extension": ".py",
   "mimetype": "text/x-python",
   "name": "python",
   "nbconvert_exporter": "python",
   "pygments_lexer": "ipython3",
   "version": "3.11.9"
  }
 },
 "nbformat": 4,
 "nbformat_minor": 2
}
